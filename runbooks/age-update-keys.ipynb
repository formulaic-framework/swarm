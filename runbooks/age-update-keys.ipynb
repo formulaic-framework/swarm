{
 "cells": [
  {
   "cell_type": "code",
   "execution_count": null,
   "metadata": {},
   "outputs": [],
   "source": [
    "root = \"../\"\n",
    "%store -r root"
   ]
  },
  {
   "cell_type": "code",
   "execution_count": null,
   "metadata": {},
   "outputs": [],
   "source": [
    "from yaml import SafeLoader, load\n",
    "from os import path\n",
    "\n",
    "with open(path.join(root, \"inventory\", \"keys.yml\"), \"r\") as key_file:\n",
    "  keys = load(key_file, Loader=SafeLoader)\n",
    "\n",
    "vars = {}\n",
    "\n",
    "def findKey(name: str) -> str:\n",
    "  return keys[\"keys\"][name]\n",
    "\n",
    "for name, members in keys[\"groups\"].items():\n",
    "  group_keys = map(findKey, members)\n",
    "  vars[name] = ','.join(group_keys)\n",
    "\n",
    "%store vars"
   ]
  },
  {
   "cell_type": "code",
   "execution_count": null,
   "metadata": {},
   "outputs": [],
   "source": [
    "from jinja2 import Environment\n",
    "from os import path\n",
    "from yaml import SafeLoader, load\n",
    "\n",
    "%store -r root\n",
    "%store -r vars\n",
    "\n",
    "with open(path.join(root, \".sops.yaml.j2\"), \"r\") as template_file:\n",
    "  sops_template = template_file.read()\n",
    "\n",
    "environment = Environment()\n",
    "template = environment.from_string(sops_template)\n",
    "sops_config_text = template.render(vars)\n",
    "\n",
    "sops_config = load(sops_config_text, Loader=SafeLoader)\n",
    "%store sops_config\n",
    "\n",
    "sops_config"
   ]
  },
  {
   "cell_type": "code",
   "execution_count": null,
   "metadata": {},
   "outputs": [],
   "source": [
    "from yaml import dump\n",
    "from os import path\n",
    "\n",
    "%store -r root\n",
    "%store -r sops_config\n",
    "\n",
    "with open(path.join(root, \".sops.yaml\"), \"w\") as sops_file:\n",
    "  dump(sops_config, sops_file)"
   ]
  }
 ],
 "metadata": {
  "kernelspec": {
   "display_name": "Python 3.8.10 64-bit",
   "language": "python",
   "name": "python3"
  },
  "language_info": {
   "codemirror_mode": {
    "name": "ipython",
    "version": 3
   },
   "file_extension": ".py",
   "mimetype": "text/x-python",
   "name": "python",
   "nbconvert_exporter": "python",
   "pygments_lexer": "ipython3",
   "version": "3.8.10"
  },
  "orig_nbformat": 4,
  "vscode": {
   "interpreter": {
    "hash": "31f2aee4e71d21fbe5cf8b01ff0e069b9275f58929596ceb00d14d90e3e16cd6"
   }
  }
 },
 "nbformat": 4,
 "nbformat_minor": 2
}
