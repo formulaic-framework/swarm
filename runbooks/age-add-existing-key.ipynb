{
 "cells": [
  {
   "cell_type": "code",
   "execution_count": null,
   "metadata": {},
   "outputs": [],
   "source": [
    "root = \"../\"\n",
    "%store -r root\n",
    "\n",
    "def input_required(msg):\n",
    "  response = input(msg)\n",
    "  if len(response) < 1:\n",
    "    raise Exception(\"Must provide a value\")\n",
    "  return response"
   ]
  },
  {
   "cell_type": "code",
   "execution_count": null,
   "metadata": {},
   "outputs": [],
   "source": [
    "name = input_required(\"Name\")\n",
    "\n",
    "print(f\"Adding key for '{name}'\")\n",
    "\n",
    "%store name"
   ]
  },
  {
   "cell_type": "code",
   "execution_count": null,
   "metadata": {},
   "outputs": [],
   "source": [
    "public_key = input_required(\"age Public Key\")\n",
    "\n",
    "%store -r name\n",
    "print(f\"Files for {name} will be encrypted with '{public_key}'\")\n",
    "\n",
    "%store public_key"
   ]
  },
  {
   "cell_type": "code",
   "execution_count": null,
   "metadata": {},
   "outputs": [],
   "source": [
    "group_list = input_required(\"Groups\")\n",
    "groups = group_list.split(\",\")\n",
    "\n",
    "%store -r name\n",
    "print(f\"{name} will be added to groups {', '.join(groups)}\")\n",
    "\n",
    "%store groups"
   ]
  },
  {
   "cell_type": "code",
   "execution_count": null,
   "metadata": {},
   "outputs": [],
   "source": [
    "from os import mkdir, path\n",
    "\n",
    "%store -r root\n",
    "\n",
    "try:\n",
    "  mkdir(path.join(root, \"inventory\"))\n",
    "  print(\"Created inventory directory.\")\n",
    "except FileExistsError:\n",
    "  print(\"Inventory directory already exists.\")"
   ]
  },
  {
   "cell_type": "code",
   "execution_count": null,
   "metadata": {},
   "outputs": [],
   "source": [
    "from yaml import SafeLoader, load\n",
    "from os import path\n",
    "\n",
    "try:\n",
    "  with open(path.join(root, \"inventory\", \"keys.yml\"), \"r\") as key_file:\n",
    "    keys = load(key_file, Loader=SafeLoader)\n",
    "except FileNotFoundError:\n",
    "  print(\"'keys' file not found, initializing.\")\n",
    "  keys = {}\n",
    "  keys[\"keys\"] = {}\n",
    "  keys[\"groups\"] = {}\n",
    "\n",
    "%store keys"
   ]
  },
  {
   "cell_type": "code",
   "execution_count": null,
   "metadata": {},
   "outputs": [],
   "source": [
    "%store -r keys\n",
    "%store -r name\n",
    "%store -r public_key\n",
    "%store -r groups\n",
    "\n",
    "keys[\"keys\"][name] = public_key\n",
    "\n",
    "for group in groups:\n",
    "  if group in keys[\"groups\"]:\n",
    "    keys[\"groups\"][group].append(name)\n",
    "  else:\n",
    "    keys[\"groups\"][group] = [name]\n",
    "\n",
    "%store keys"
   ]
  },
  {
   "cell_type": "code",
   "execution_count": null,
   "metadata": {},
   "outputs": [],
   "source": [
    "from yaml import dump\n",
    "from os import path\n",
    "\n",
    "%store -r root\n",
    "%store -r keys\n",
    "\n",
    "with open(path.join(root, \"inventory\", \"keys.yml\"), \"w\") as key_file:\n",
    "  dump(keys, key_file)"
   ]
  }
 ],
 "metadata": {
  "kernelspec": {
   "display_name": "Python 3.8.10 64-bit",
   "language": "python",
   "name": "python3"
  },
  "language_info": {
   "codemirror_mode": {
    "name": "ipython",
    "version": 3
   },
   "file_extension": ".py",
   "mimetype": "text/x-python",
   "name": "python",
   "nbconvert_exporter": "python",
   "pygments_lexer": "ipython3",
   "version": "3.8.10"
  },
  "orig_nbformat": 4,
  "vscode": {
   "interpreter": {
    "hash": "31f2aee4e71d21fbe5cf8b01ff0e069b9275f58929596ceb00d14d90e3e16cd6"
   }
  }
 },
 "nbformat": 4,
 "nbformat_minor": 2
}
